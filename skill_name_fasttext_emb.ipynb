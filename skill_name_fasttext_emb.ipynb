{
 "cells": [
  {
   "cell_type": "code",
   "execution_count": null,
   "metadata": {
    "colab": {
     "base_uri": "https://localhost:8080/"
    },
    "executionInfo": {
     "elapsed": 3348,
     "status": "ok",
     "timestamp": 1606928669176,
     "user": {
      "displayName": "Marina Delianidi",
      "photoUrl": "https://lh3.googleusercontent.com/a-/AOh14Ghqwe-6UlHfIzm9fkjKwPK4v-RtWnVMe1ke-56ngg=s64",
      "userId": "09158180067384578416"
     },
     "user_tz": -120
    },
    "id": "jbnOnfWr4b3G",
    "outputId": "569faa43-303e-4b86-ab64-7d313747ecb6"
   },
   "outputs": [],
   "source": [
    "!pip install sister\n",
    "# SISTER (Simple Sentence Embedder)\n",
    "# downloads pre-trained facebookresearch/fastText vector\n",
    "import sister"
   ]
  },
  {
   "cell_type": "code",
   "execution_count": null,
   "metadata": {
    "id": "n5PIbIoR5RQZ"
   },
   "outputs": [],
   "source": [
    "import pandas as pd\n",
    "import numpy as np\n",
    "\n",
    "DATASET = \"Assistment2009_corrected\"\n",
    "#DATASET = \"Assist2009_updated\"\n",
    "#DATASET = \"fsaif1tof3\"\n",
    "#DATASET = \"Assistment2012_13\""
   ]
  },
  {
   "cell_type": "code",
   "execution_count": null,
   "metadata": {
    "colab": {
     "base_uri": "https://localhost:8080/"
    },
    "executionInfo": {
     "elapsed": 1517,
     "status": "ok",
     "timestamp": 1606929200350,
     "user": {
      "displayName": "Marina Delianidi",
      "photoUrl": "https://lh3.googleusercontent.com/a-/AOh14Ghqwe-6UlHfIzm9fkjKwPK4v-RtWnVMe1ke-56ngg=s64",
      "userId": "09158180067384578416"
     },
     "user_tz": -120
    },
    "id": "pn_xfC_P5VE7",
    "outputId": "766453eb-b558-4cad-d8c4-c117c91ef6cf"
   },
   "outputs": [],
   "source": [
    "# fix the paths to run\n",
    "if DATASET == \"Assistment2009_corrected\":\n",
    "    sknames_file = './data/assistment_2009_corrected_3lines/skill_names_corrected.csv'\n",
    "    save_to_path = './embeddings/assistment_2009_corrected_3lines'\n",
    "elif DATASET == \"Assist2009_updated\":\n",
    "    sknames_file = './data/assist2009_updated/skill_names_updated.csv'\n",
    "    save_to_path = './embeddings/assist2009_updated'\n",
    "elif DATASET == \"fsaif1tof3\":\n",
    "    sknames_file = './data/fsaid1tof3/fsaif1tof3_skill_name_question_id.csv'\n",
    "    save_to_path = './embeddings/fsaid1tof3'\n",
    "elif DATASET == \"Assistment2012_13\":  \n",
    "    sknames_file = 'data/assistment2012_2013/skill_names_12_13.csv'\n",
    "    save_to_path = './embeddings/assistment2012_2013'\n",
    "\n",
    "skill_names = pd.read_csv(sknames_file, header=None)\n",
    "num_skills = skill_names.shape[0]\n",
    "print ('the number of skills = {}'.format(num_skills))\n",
    "skills = np.array(skill_names.values)"
   ]
  },
  {
   "cell_type": "code",
   "execution_count": null,
   "metadata": {
    "colab": {
     "base_uri": "https://localhost:8080/",
     "height": 35
    },
    "executionInfo": {
     "elapsed": 1328,
     "status": "ok",
     "timestamp": 1606929206267,
     "user": {
      "displayName": "Marina Delianidi",
      "photoUrl": "https://lh3.googleusercontent.com/a-/AOh14Ghqwe-6UlHfIzm9fkjKwPK4v-RtWnVMe1ke-56ngg=s64",
      "userId": "09158180067384578416"
     },
     "user_tz": -120
    },
    "id": "4sZtmVdkscf4",
    "outputId": "01e12816-bb2a-4b51-8597-fa4ba7be094f"
   },
   "outputs": [],
   "source": [
    "sknames_file"
   ]
  },
  {
   "cell_type": "markdown",
   "metadata": {
    "id": "6orxmt-M6i4g"
   },
   "source": [
    "Makes sentence embeddings vector 300d\n",
    "Take a look here (If can not read, open in an incognito window) :\n",
    "https://towardsdatascience.com/super-easy-text-classification-by-sentence-vector-with-sister-library-843eabf962ae \n",
    "https://towardsdatascience.com/super-easy-way-to-get-sentence-embedding-using-fasttext-in-python-a70f34ac5b7c  "
   ]
  },
  {
   "cell_type": "code",
   "execution_count": null,
   "metadata": {
    "colab": {
     "base_uri": "https://localhost:8080/"
    },
    "executionInfo": {
     "elapsed": 3242,
     "status": "ok",
     "timestamp": 1606930217683,
     "user": {
      "displayName": "Marina Delianidi",
      "photoUrl": "https://lh3.googleusercontent.com/a-/AOh14Ghqwe-6UlHfIzm9fkjKwPK4v-RtWnVMe1ke-56ngg=s64",
      "userId": "09158180067384578416"
     },
     "user_tz": -120
    },
    "id": "WKsfzooF6bfk",
    "outputId": "6e458410-bff6-4249-d667-3212504ac6b6"
   },
   "outputs": [],
   "source": [
    "skname_embedding = sister.MeanEmbedding(\"en\")"
   ]
  },
  {
   "cell_type": "code",
   "execution_count": null,
   "metadata": {
    "colab": {
     "base_uri": "https://localhost:8080/"
    },
    "executionInfo": {
     "elapsed": 858,
     "status": "ok",
     "timestamp": 1606930221759,
     "user": {
      "displayName": "Marina Delianidi",
      "photoUrl": "https://lh3.googleusercontent.com/a-/AOh14Ghqwe-6UlHfIzm9fkjKwPK4v-RtWnVMe1ke-56ngg=s64",
      "userId": "09158180067384578416"
     },
     "user_tz": -120
    },
    "id": "vSVMIh0SAiqR",
    "outputId": "3a075e0f-4e61-48e1-ac9a-169ffa1050b3"
   },
   "outputs": [],
   "source": [
    "embeddings = np.array([skname_embedding(skills[line,0]) for line in range (num_skills)])\n",
    "print(\"The embeddings shape is {}\".format(embeddings.shape))"
   ]
  },
  {
   "cell_type": "code",
   "execution_count": null,
   "metadata": {
    "id": "zOGGTw9uBhCe"
   },
   "outputs": [],
   "source": [
    "pd.DataFrame(embeddings).to_csv(\"{}/{}_skname_embeddings_FastText.csv\".format(save_to_path, DATASET), sep=\",\", index=False, header=None)"
   ]
  }
 ],
 "metadata": {
  "accelerator": "GPU",
  "colab": {
   "name": "skill_name_fasttext_emb.ipynb",
   "provenance": [
    {
     "file_id": "1dExJDdSu1c-1-d_ioQKugWIZ-i3Nk6L0",
     "timestamp": 1598045074977
    },
    {
     "file_id": "1iX4U-QXdqBsfrtubCzWPbU_ukpaijXao",
     "timestamp": 1597960750619
    }
   ]
  },
  "kernelspec": {
   "display_name": "Python 3",
   "language": "python",
   "name": "python3"
  },
  "language_info": {
   "codemirror_mode": {
    "name": "ipython",
    "version": 3
   },
   "file_extension": ".py",
   "mimetype": "text/x-python",
   "name": "python",
   "nbconvert_exporter": "python",
   "pygments_lexer": "ipython3",
   "version": "3.7.6"
  }
 },
 "nbformat": 4,
 "nbformat_minor": 1
}
